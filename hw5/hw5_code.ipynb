{
 "cells": [
  {
   "cell_type": "code",
   "execution_count": 47,
   "metadata": {
    "collapsed": false
   },
   "outputs": [],
   "source": [
    "import numpy as np\n",
    "import pandas as pd\n",
    "import scipy.io\n",
    "from scipy.stats import itemfreq\n",
    "from statistics import mode\n",
    "import time\n",
    "import multiprocessing as mp\n",
    "\n",
    "import pydot"
   ]
  },
  {
   "cell_type": "markdown",
   "metadata": {},
   "source": [
    "### Decision Tree class"
   ]
  },
  {
   "cell_type": "code",
   "execution_count": 93,
   "metadata": {
    "collapsed": false
   },
   "outputs": [],
   "source": [
    "class decision_tree:\n",
    "    \n",
    "    class node:\n",
    "        def __init__(self, left, right, split_rule, is_leaf, label):\n",
    "            self.left = left\n",
    "            self.right = right\n",
    "            self.split_rule = split_rule\n",
    "            self.is_leaf = is_leaf\n",
    "            self.label = label\n",
    "    \n",
    "    def __init__(self, max_depth=1e10):\n",
    "        self.max_depth = max_depth\n",
    "\n",
    "    def max_count(self, array):\n",
    "        return max(set(array), key=array.tolist().count)\n",
    "        \n",
    "    # utility function for entropy calculation\n",
    "    def entropy(self, indices):\n",
    "        p = itemfreq(a)[:, 1].astype(float) / len(indices)\n",
    "        return -p.dot(np.log2(p))\n",
    "    \n",
    "    # calculate entropy the number of instances in each class in known\n",
    "    def entropy_n(self, all_n):\n",
    "        p = all_n / (np.sum(all_n)+1e-20)\n",
    "        return -p.dot(np.log2(p+1e-20))\n",
    "    \n",
    "    # calculate the impurity(\"badness\") of the specified split on the input data\n",
    "    def impurity(self, left_label_hist, right_label_hist):\n",
    "        Sl = np.sum(left_label_hist)\n",
    "        Sr = np.sum(right_label_hist)\n",
    "        return (Sl*self.entropy_n(left_label_hist) + Sr * self.entropy_n(right_label_hist)) / (Sl+Sr)\n",
    "    \n",
    "    # find the threshold that best split the data points with a certain feature\n",
    "    # Note: <= th goes to S_left and > th goes to S_right\n",
    "    def find_threshold(self, feature, labels):\n",
    "        all_f = sorted(set(feature)) # sorted in ascending order\n",
    "        all_l = set(labels) # list unique labels\n",
    "        \n",
    "        freq_mat = np.zeros([len(all_f), len(all_l)])\n",
    "        for i, f in enumerate(all_f):\n",
    "            for j, l in enumerate(all_l):\n",
    "                freq_mat[i, j] = len(labels[np.where(labels[np.where(feature==f)]==l)])\n",
    "        \n",
    "        # calculate the average of two neighboring values as threshold\n",
    "        # iterates from min to max\n",
    "        all_threshold = (np.hstack((all_f[1:], all_f[-1])) + all_f) / 2.\n",
    "        \n",
    "        # in the beginning, all goes to the right node\n",
    "        n_left = np.zeros([len(all_l)])\n",
    "        n_right = np.sum(freq_mat, axis=0)\n",
    "        n_left_sum = 0\n",
    "        min_threshold = all_threshold[0]\n",
    "        min_H = self.impurity(n_left, n_right)\n",
    "        # loop through all threshold to find the one with the minimum impurity\n",
    "        for i, th in enumerate(all_threshold):\n",
    "            n_left += freq_mat[i, :]\n",
    "            n_right -= freq_mat[i, :]\n",
    "            H = self.impurity(n_left, n_right)\n",
    "            if H < min_H:\n",
    "                min_H = H\n",
    "                min_threshold = th\n",
    "        return min_threshold, min_H\n",
    "    \n",
    "    \n",
    "    # find the best feature and threshold to split data points\n",
    "    def segmenter(self, data, labels, m=-1):\n",
    "        d = data.shape[1]\n",
    "        if m == -1:\n",
    "            all_features = np.arange(d)\n",
    "        else:\n",
    "            all_features = np.random.choice(range(d), m, replace=False)\n",
    "        min_H = 1e20\n",
    "        min_th = 0\n",
    "        min_i = 0\n",
    "        for i in all_features:\n",
    "            threshold, H = self.find_threshold(data[:, i], labels)\n",
    "            if H < min_H:\n",
    "                min_H = H\n",
    "                min_th = threshold\n",
    "                min_i = i\n",
    "        return min_i, min_th\n",
    "    \n",
    "    # the recurrence function that builds the decision tree\n",
    "    def grow_tree(self, S, depth, m=-1):\n",
    "        if len(set(self.labels[S])) == 1 or depth >= self.max_depth: # pure node or reach maximum depth\n",
    "            return self.node(left=None, right=None, split_rule=None, is_leaf=1, \\\n",
    "                             label=self.max_count(self.labels[S]))\n",
    "        else:\n",
    "            min_i, min_th = self.segmenter(self.data[S, :], self.labels[S], m=m)\n",
    "            Sl = [j for j in S if self.data[j, min_i] <= min_th]\n",
    "            Sr = [j for j in S if self.data[j, min_i] > min_th]\n",
    "            if len(Sl) == 0 or len(Sr) == 0:\n",
    "                return self.node(left=None, right=None, split_rule=None, is_leaf=1, \\\n",
    "                                 label=self.max_count(self.labels[S]))\n",
    "            else:\n",
    "                return self.node(left=self.grow_tree(Sl, depth+1, m), right=self.grow_tree(Sr,depth+1, m), \\\n",
    "                                 split_rule = (min_i, min_th), \\\n",
    "                            is_leaf=0, label=None)\n",
    "        \n",
    "    # train the decision tree\n",
    "    def train(self, data, labels, m=-1):\n",
    "        self.data = data\n",
    "        self.labels = labels\n",
    "        S = np.array(range(len(labels)))\n",
    "        self.root = self.grow_tree(S, 1, m=m)\n",
    "        self.data = None\n",
    "        self.labels = None\n",
    "        return self\n",
    "        \n",
    "    # predict labels of test data\n",
    "    def predict(self, data, verbose=0):\n",
    "        if data.ndim == 1: # special case of only 1 row (it becomes a 1d vector in numpy)\n",
    "            data = np.reshape(data, [1, len(data)])\n",
    "            N = 1\n",
    "        else:\n",
    "            N = data.shape[0]\n",
    "        labels = np.zeros(N)    \n",
    "            \n",
    "        # predict each data point    \n",
    "        for i in range(N):\n",
    "            d = data[i, :]\n",
    "            current_node = self.root\n",
    "            depth = 0\n",
    "            # going down along the tree\n",
    "            while not current_node.is_leaf: # not reach leaf yet\n",
    "                idx = current_node.split_rule[0]\n",
    "                th = current_node.split_rule[1]\n",
    "                if d[idx] <= th:\n",
    "                    current_node = current_node.left\n",
    "                    if verbose == 1 and depth == 0:\n",
    "                        print('Feature %d <= %f' % (idx, th))\n",
    "                    if verbose == 2:\n",
    "                        print('Feature %d <= %f' % (idx, th))\n",
    "                else:\n",
    "                    current_node = current_node.right\n",
    "                    if verbose == 1 and depth == 0:\n",
    "                        print('Feature %d > %f' % (idx, th))\n",
    "                    if verbose == 2:\n",
    "                        print('Feature %d > %f' % (idx, th))\n",
    "                depth += 1\n",
    "            if verbose == 2:\n",
    "                print('Classification: %d' % current_node.label)\n",
    "                \n",
    "            labels[i] = current_node.label\n",
    "        return labels\n",
    "\n",
    "    # calculate the prediction accuracy\n",
    "    def accuracy(self, data, true_labels):\n",
    "        labels = self.predict(data, verbose=False)\n",
    "        N = len(labels)\n",
    "        return np.sum(labels == true_labels) / float(N)\n",
    "        \n",
    "        "
   ]
  },
  {
   "cell_type": "markdown",
   "metadata": {},
   "source": [
    "### Random Forest Class"
   ]
  },
  {
   "cell_type": "code",
   "execution_count": 94,
   "metadata": {
    "collapsed": false
   },
   "outputs": [],
   "source": [
    "# use multiproccessing to speed up\n",
    "class random_forest:\n",
    "    def __init__(self, n_trees=20, n_sample=1000, n_feature=-1, max_depth=1e10):\n",
    "        self.n_trees = n_trees\n",
    "        self.n_sample = n_sample\n",
    "        self.n_feature = -1\n",
    "        self.max_depth = max_depth\n",
    "        self.trees = np.array([decision_tree(max_depth)] * n_trees)\n",
    "        \n",
    "    def train_parallel(self, data, labels, verbose=True):\n",
    "        if self.n_feature == -1:\n",
    "            d = data.shape[1]\n",
    "            self.n_feature = int(np.sqrt(d)) # num of random features = sqrt(d) is a good guess\n",
    "        pool = mp.Pool()\n",
    "        results = np.zeros(self.n_trees, dtype=object)\n",
    "        print('# Trees = %d' % self.n_trees)\n",
    "        for i, dt in enumerate(self.trees):\n",
    "#             print(i)\n",
    "            idx = np.random.choice(range(len(data)), self.n_sample)\n",
    "            sub_data = data[idx, :]\n",
    "            sub_labels = labels[idx]\n",
    "            results[i] = pool.apply_async(dt.train, args=(sub_data, sub_labels, self.n_feature,))\n",
    "            if verbose:\n",
    "                print('%d: Tree loaded.' % i)\n",
    "#             dt.train(sub_data, sub_labels, m=self.n_feature) # activate the random feature mode\n",
    "        self.trees = [p.get() for p in results]\n",
    "        print('Trees trained.')\n",
    "        pool.close()\n",
    "        \n",
    "    def train(self, data, labels):\n",
    "        if self.n_feature == -1:\n",
    "            d = data.shape[1]\n",
    "            self.n_feature = int(np.sqrt(d)) # num of random features = sqrt(d) is a good guess\n",
    "        print('# Trees = %d' % self.n_trees)\n",
    "        for i, dt in enumerate(self.trees):\n",
    "            print(i)\n",
    "            idx = np.random.choice(range(len(data)), self.n_sample)\n",
    "            sub_data = data[idx, :]\n",
    "            sub_labels = labels[idx]\n",
    "            dt.train(sub_data, sub_labels, m=self.n_feature) # activate the random feature mode\n",
    "    \n",
    "    def predict(self, data, verbose=0):\n",
    "        if data.ndim == 1: # special case of only 1 row (it becomes a 1d vector in numpy)\n",
    "            data = np.reshape(data, [1, len(data)])\n",
    "            N = 1\n",
    "        else:\n",
    "            N = data.shape[0]\n",
    "        labels = np.zeros(N)    \n",
    "            \n",
    "        # predict each data point    \n",
    "        for i in range(N):\n",
    "            votes = np.zeros(self.n_trees)\n",
    "            for j, t in enumerate(self.trees):\n",
    "                votes[j] = t.predict(data[i, :], verbose=verbose)\n",
    "            labels[i] = t.max_count(votes)\n",
    "        return labels\n",
    "    \n",
    "    def accuracy(self, data, true_labels):\n",
    "        labels = self.predict(data, verbose=False)\n",
    "        N = len(labels)\n",
    "        return np.sum(labels == true_labels) / float(N)\n",
    "     "
   ]
  },
  {
   "cell_type": "markdown",
   "metadata": {},
   "source": [
    "### Utility"
   ]
  },
  {
   "cell_type": "code",
   "execution_count": 69,
   "metadata": {
    "collapsed": true
   },
   "outputs": [],
   "source": [
    "def normalize_row(X):\n",
    "    Xn = np.zeros(X.shape)\n",
    "    for i in range(X.shape[0]):\n",
    "        x = X[i, :]\n",
    "        Xn[i, :] = (x/(np.sqrt(x.dot(x))+1e-15))\n",
    "    return Xn"
   ]
  },
  {
   "cell_type": "code",
   "execution_count": 70,
   "metadata": {
    "collapsed": true
   },
   "outputs": [],
   "source": [
    "def max_count(lst):\n",
    "    return max(set(lst), key=lst.tolist().count)"
   ]
  },
  {
   "cell_type": "markdown",
   "metadata": {},
   "source": [
    "### 1. spam"
   ]
  },
  {
   "cell_type": "code",
   "execution_count": 71,
   "metadata": {
    "collapsed": false
   },
   "outputs": [
    {
     "data": {
      "text/plain": [
       "23702"
      ]
     },
     "execution_count": 71,
     "metadata": {},
     "output_type": "execute_result"
    }
   ],
   "source": [
    "data = scipy.io.loadmat('spam_dist/spam_data.mat')\n",
    "train_X = data['training_data']\n",
    "train_y = data['training_labels'].ravel()\n",
    "test_X = data['test_data']\n",
    "len(train_X)"
   ]
  },
  {
   "cell_type": "code",
   "execution_count": 72,
   "metadata": {
    "collapsed": false
   },
   "outputs": [
    {
     "name": "stdout",
     "output_type": "stream",
     "text": [
      "(18961, 32)\n"
     ]
    }
   ],
   "source": [
    "S = np.random.choice(range(len(train_y)), int(len(train_y)/5*4), replace=False)\n",
    "train_data = train_X[S, :]\n",
    "train_labels = train_y[S]\n",
    "S = np.setdiff1d(range(len(train_y)), S)\n",
    "validation_data = train_X[S, :]\n",
    "validation_labels = train_y[S]\n",
    "print(train_data.shape)"
   ]
  },
  {
   "cell_type": "markdown",
   "metadata": {},
   "source": [
    "#### Decision Tree"
   ]
  },
  {
   "cell_type": "code",
   "execution_count": 82,
   "metadata": {
    "collapsed": false
   },
   "outputs": [
    {
     "name": "stdout",
     "output_type": "stream",
     "text": [
      "Total training time:  9.92026662826538\n",
      "Accuracy:  0.806866726438\n",
      "Accuracy:  0.793714406243\n"
     ]
    }
   ],
   "source": [
    "dt = decision_tree(15)\n",
    "start = time.time()\n",
    "dt.train(train_data, train_labels)\n",
    "end = time.time()\n",
    "print('Total training time: ', end-start)\n",
    "\n",
    "\n",
    "l = dt.accuracy(train_data, train_labels)\n",
    "print('Accuracy: ', l)\n",
    "\n",
    "l = dt.accuracy(validation_data, validation_labels)\n",
    "print('Accuracy: ', l)"
   ]
  },
  {
   "cell_type": "code",
   "execution_count": 87,
   "metadata": {
    "collapsed": false
   },
   "outputs": [
    {
     "name": "stdout",
     "output_type": "stream",
     "text": [
      "Feature 28 <= 0.500000\n",
      "Feature 29 <= 0.500000\n",
      "Feature 19 <= 0.500000\n",
      "Feature 25 <= 1.500000\n",
      "Feature 7 <= 0.500000\n",
      "Feature 13 <= 0.500000\n",
      "Feature 3 <= 0.500000\n",
      "Feature 0 <= 0.500000\n",
      "Feature 26 <= 0.500000\n",
      "Feature 31 <= 0.500000\n",
      "Feature 6 <= 0.500000\n",
      "Feature 20 <= 0.500000\n",
      "Feature 16 <= 0.500000\n",
      "Feature 30 <= 0.500000\n",
      "Classification: 0\n"
     ]
    },
    {
     "data": {
      "text/plain": [
       "array([ 0.])"
      ]
     },
     "execution_count": 87,
     "metadata": {},
     "output_type": "execute_result"
    }
   ],
   "source": [
    "dt.predict(train_X[0, :], verbose=2)"
   ]
  },
  {
   "cell_type": "markdown",
   "metadata": {},
   "source": [
    "#### Random Forest"
   ]
  },
  {
   "cell_type": "code",
   "execution_count": 95,
   "metadata": {
    "collapsed": false
   },
   "outputs": [
    {
     "name": "stdout",
     "output_type": "stream",
     "text": [
      "# Trees = 20\n",
      "0: Tree loaded.\n",
      "1: Tree loaded.\n",
      "2: Tree loaded.\n",
      "3: Tree loaded.\n",
      "4: Tree loaded.\n",
      "5: Tree loaded.\n",
      "6: Tree loaded.\n",
      "7: Tree loaded.\n",
      "8: Tree loaded.\n",
      "9: Tree loaded.\n",
      "10: Tree loaded.\n",
      "11: Tree loaded.\n",
      "12: Tree loaded.\n",
      "13: Tree loaded.\n",
      "14: Tree loaded.\n",
      "15: Tree loaded.\n",
      "16: Tree loaded.\n",
      "17: Tree loaded.\n",
      "18: Tree loaded.\n",
      "19: Tree loaded.\n",
      "Trees trained.\n",
      "Total training time:  5.115397930145264\n",
      "Accuracy:  0.814250303254\n",
      "Accuracy:  0.810166631512\n"
     ]
    }
   ],
   "source": [
    "n_trees=20\n",
    "n_sample=18000\n",
    "n_feature=-1\n",
    "max_depth=30\n",
    "rf = random_forest(n_trees=n_trees, n_sample=n_sample, n_feature=n_feature, max_depth=max_depth)\n",
    "start = time.time()\n",
    "rf.train_parallel(train_data, train_labels)\n",
    "end = time.time()\n",
    "print('Total training time: ', end-start)\n",
    "\n",
    "l = rf.accuracy(train_data, train_labels)\n",
    "print('Accuracy: ', l)\n",
    "\n",
    "l = rf.accuracy(validation_data, validation_labels)\n",
    "print('Accuracy: ', l)"
   ]
  },
  {
   "cell_type": "code",
   "execution_count": 96,
   "metadata": {
    "collapsed": false
   },
   "outputs": [
    {
     "name": "stdout",
     "output_type": "stream",
     "text": [
      "Feature 19 <= 0.500000\n",
      "Feature 19 <= 0.500000\n",
      "Feature 19 <= 0.500000\n",
      "Feature 19 <= 0.500000\n",
      "Feature 19 <= 0.500000\n",
      "Feature 19 <= 0.500000\n",
      "Feature 19 <= 0.500000\n",
      "Feature 19 <= 0.500000\n",
      "Feature 19 <= 0.500000\n",
      "Feature 19 <= 0.500000\n",
      "Feature 19 <= 0.500000\n",
      "Feature 19 <= 0.500000\n",
      "Feature 19 <= 0.500000\n",
      "Feature 19 <= 0.500000\n",
      "Feature 16 <= 0.500000\n",
      "Feature 19 <= 0.500000\n",
      "Feature 19 <= 0.500000\n",
      "Feature 19 <= 0.500000\n",
      "Feature 19 <= 0.500000\n",
      "Feature 19 <= 0.500000\n"
     ]
    },
    {
     "data": {
      "text/plain": [
       "array([ 0.])"
      ]
     },
     "execution_count": 96,
     "metadata": {},
     "output_type": "execute_result"
    }
   ],
   "source": [
    "rf.predict(train_X[0, :], verbose=1)"
   ]
  },
  {
   "cell_type": "markdown",
   "metadata": {},
   "source": [
    "#### Kaggle"
   ]
  },
  {
   "cell_type": "code",
   "execution_count": 46,
   "metadata": {
    "collapsed": true
   },
   "outputs": [],
   "source": [
    "from sklearn.feature_extraction.text import CountVectorizer\n",
    "# test tf-idf feature\n",
    "from sklearn.feature_extraction.text import TfidfVectorizer\n",
    "import glob\n",
    "SPAM_DIR = 'spam/'\n",
    "HAM_DIR = 'ham/'\n",
    "TEST_DIR = 'test/'\n",
    "NUM_TEST_EXAMPLES = 10000\n",
    "spam_filenames = glob.glob('spam_dist/' + SPAM_DIR + '*.txt')\n",
    "ham_filenames = glob.glob('spam_dist/' + HAM_DIR + '*.txt')\n",
    "test_filenames = ['spam_dist/' + TEST_DIR + str(x) + '.txt' for x in range(NUM_TEST_EXAMPLES)]\n",
    "\n",
    "all_text = []\n",
    "for file in spam_filenames+ham_filenames: # use only training set data to build BOG\n",
    "    with open(file, \"r\", encoding='utf-8', errors='ignore') as f:\n",
    "        all_text.append(f.read())\n",
    "        \n",
    "all_test_text = []\n",
    "for file in test_filenames: # use only training set data to build BOG\n",
    "    with open(file, \"r\", encoding='utf-8', errors='ignore') as f:\n",
    "        all_test_text.append(f.read())\n",
    "        "
   ]
  },
  {
   "cell_type": "code",
   "execution_count": 47,
   "metadata": {
    "collapsed": false
   },
   "outputs": [],
   "source": [
    "# vectorizer = CountVectorizer(min_df=4) # min word length=4\n",
    "vectorizer = TfidfVectorizer()\n",
    "train_X = normalize_row(vectorizer.fit_transform(all_text).toarray())\n",
    "test_X = normalize_row(vectorizer.transform(all_test_text).toarray())\n",
    "train_y = np.concatenate((np.ones(len(spam_filenames)), np.zeros(len(ham_filenames))))"
   ]
  },
  {
   "cell_type": "code",
   "execution_count": 85,
   "metadata": {
    "collapsed": false
   },
   "outputs": [
    {
     "name": "stdout",
     "output_type": "stream",
     "text": [
      "(23702, 2000)\n"
     ]
    }
   ],
   "source": [
    "std = np.std(train_X, axis=0)\n",
    "# use the max N variance word to build model\n",
    "n_max = 2000\n",
    "max_idx = std.argsort()[-n_max:]\n",
    "train_X_max = train_X[:, max_idx]\n",
    "test_X_max = test_X[:, max_idx]\n",
    "print(train_X_max.shape)"
   ]
  },
  {
   "cell_type": "code",
   "execution_count": 86,
   "metadata": {
    "collapsed": false
   },
   "outputs": [],
   "source": [
    "S = np.random.choice(range(len(train_y)), int(len(train_y)/5*4), replace=False)\n",
    "train_data = train_X_max[S, :]\n",
    "train_labels = train_y[S]\n",
    "S = np.setdiff1d(range(len(train_y)), S)\n",
    "validation_data = train_X_max[S, :]\n",
    "validation_labels = train_y[S]\n"
   ]
  },
  {
   "cell_type": "code",
   "execution_count": 83,
   "metadata": {
    "collapsed": false,
    "scrolled": true
   },
   "outputs": [
    {
     "name": "stdout",
     "output_type": "stream",
     "text": [
      "# Trees = 128\n",
      "0: Tree loaded.\n",
      "1: Tree loaded.\n",
      "2: Tree loaded.\n",
      "3: Tree loaded.\n",
      "4: Tree loaded.\n",
      "5: Tree loaded.\n",
      "6: Tree loaded.\n",
      "7: Tree loaded.\n",
      "8: Tree loaded.\n",
      "9: Tree loaded.\n",
      "10: Tree loaded.\n",
      "11: Tree loaded.\n",
      "12: Tree loaded.\n",
      "13: Tree loaded.\n",
      "14: Tree loaded.\n",
      "15: Tree loaded.\n",
      "16: Tree loaded.\n",
      "17: Tree loaded.\n",
      "18: Tree loaded.\n",
      "19: Tree loaded.\n",
      "20: Tree loaded.\n",
      "21: Tree loaded.\n",
      "22: Tree loaded.\n",
      "23: Tree loaded.\n",
      "24: Tree loaded.\n",
      "25: Tree loaded.\n",
      "26: Tree loaded.\n",
      "27: Tree loaded.\n",
      "28: Tree loaded.\n",
      "29: Tree loaded.\n",
      "30: Tree loaded.\n",
      "31: Tree loaded.\n",
      "32: Tree loaded.\n",
      "33: Tree loaded.\n",
      "34: Tree loaded.\n",
      "35: Tree loaded.\n",
      "36: Tree loaded.\n",
      "37: Tree loaded.\n",
      "38: Tree loaded.\n",
      "39: Tree loaded.\n",
      "40: Tree loaded.\n",
      "41: Tree loaded.\n",
      "42: Tree loaded.\n",
      "43: Tree loaded.\n",
      "44: Tree loaded.\n",
      "45: Tree loaded.\n",
      "46: Tree loaded.\n",
      "47: Tree loaded.\n",
      "48: Tree loaded.\n",
      "49: Tree loaded.\n",
      "50: Tree loaded.\n",
      "51: Tree loaded.\n",
      "52: Tree loaded.\n",
      "53: Tree loaded.\n",
      "54: Tree loaded.\n",
      "55: Tree loaded.\n",
      "56: Tree loaded.\n",
      "57: Tree loaded.\n",
      "58: Tree loaded.\n",
      "59: Tree loaded.\n",
      "60: Tree loaded.\n",
      "61: Tree loaded.\n",
      "62: Tree loaded.\n",
      "63: Tree loaded.\n",
      "64: Tree loaded.\n",
      "65: Tree loaded.\n",
      "66: Tree loaded.\n",
      "67: Tree loaded.\n",
      "68: Tree loaded.\n",
      "69: Tree loaded.\n",
      "70: Tree loaded.\n",
      "71: Tree loaded.\n",
      "72: Tree loaded.\n",
      "73: Tree loaded.\n",
      "74: Tree loaded.\n",
      "75: Tree loaded.\n",
      "76: Tree loaded.\n",
      "77: Tree loaded.\n",
      "78: Tree loaded.\n",
      "79: Tree loaded.\n",
      "80: Tree loaded.\n",
      "81: Tree loaded.\n",
      "82: Tree loaded.\n",
      "83: Tree loaded.\n",
      "84: Tree loaded.\n",
      "85: Tree loaded.\n",
      "86: Tree loaded.\n",
      "87: Tree loaded.\n",
      "88: Tree loaded.\n",
      "89: Tree loaded.\n",
      "90: Tree loaded.\n",
      "91: Tree loaded.\n",
      "92: Tree loaded.\n",
      "93: Tree loaded.\n",
      "94: Tree loaded.\n",
      "95: Tree loaded.\n",
      "96: Tree loaded.\n",
      "97: Tree loaded.\n",
      "98: Tree loaded.\n",
      "99: Tree loaded.\n",
      "100: Tree loaded.\n",
      "101: Tree loaded.\n",
      "102: Tree loaded.\n",
      "103: Tree loaded.\n",
      "104: Tree loaded.\n",
      "105: Tree loaded.\n",
      "106: Tree loaded.\n",
      "107: Tree loaded.\n",
      "108: Tree loaded.\n",
      "109: Tree loaded.\n",
      "110: Tree loaded.\n",
      "111: Tree loaded.\n",
      "112: Tree loaded.\n",
      "113: Tree loaded.\n",
      "114: Tree loaded.\n",
      "115: Tree loaded.\n",
      "116: Tree loaded.\n",
      "117: Tree loaded.\n",
      "118: Tree loaded.\n",
      "119: Tree loaded.\n",
      "120: Tree loaded.\n",
      "121: Tree loaded.\n",
      "122: Tree loaded.\n",
      "123: Tree loaded.\n",
      "124: Tree loaded.\n",
      "125: Tree loaded.\n",
      "126: Tree loaded.\n",
      "127: Tree loaded.\n",
      "Trees trained.\n",
      "Total training time:  213.49836039543152\n"
     ]
    }
   ],
   "source": [
    "# tune random forest parameters\n",
    "n_trees=128 # 128 is good\n",
    "n_sample=18000\n",
    "n_feature=-1 # -1 ==> sqrt(d)\n",
    "max_depth=80 # deeper tree has lower bias\n",
    "\n",
    "rf = random_forest(n_trees=n_trees, n_sample=n_sample, n_feature=n_feature, max_depth=max_depth)\n",
    "\n",
    "start = time.time()\n",
    "rf.train(train_data, train_labels) # use all data\n",
    "end = time.time()\n",
    "print('Total training time: ', end-start)"
   ]
  },
  {
   "cell_type": "code",
   "execution_count": 84,
   "metadata": {
    "collapsed": false,
    "scrolled": true
   },
   "outputs": [
    {
     "name": "stdout",
     "output_type": "stream",
     "text": [
      "Accuracy:  0.974267032272\n"
     ]
    }
   ],
   "source": [
    "l = rf.accuracy(validation_data, validation_labels)\n",
    "print('Accuracy: ', l)"
   ]
  },
  {
   "cell_type": "code",
   "execution_count": 87,
   "metadata": {
    "collapsed": false,
    "scrolled": true
   },
   "outputs": [
    {
     "name": "stdout",
     "output_type": "stream",
     "text": [
      "# Trees = 128\n",
      "0: Tree loaded.\n",
      "1: Tree loaded.\n",
      "2: Tree loaded.\n",
      "3: Tree loaded.\n",
      "4: Tree loaded.\n",
      "5: Tree loaded.\n",
      "6: Tree loaded.\n",
      "7: Tree loaded.\n",
      "8: Tree loaded.\n",
      "9: Tree loaded.\n",
      "10: Tree loaded.\n",
      "11: Tree loaded.\n",
      "12: Tree loaded.\n",
      "13: Tree loaded.\n",
      "14: Tree loaded.\n",
      "15: Tree loaded.\n",
      "16: Tree loaded.\n",
      "17: Tree loaded.\n",
      "18: Tree loaded.\n",
      "19: Tree loaded.\n",
      "20: Tree loaded.\n",
      "21: Tree loaded.\n",
      "22: Tree loaded.\n",
      "23: Tree loaded.\n",
      "24: Tree loaded.\n",
      "25: Tree loaded.\n",
      "26: Tree loaded.\n",
      "27: Tree loaded.\n",
      "28: Tree loaded.\n",
      "29: Tree loaded.\n",
      "30: Tree loaded.\n",
      "31: Tree loaded.\n",
      "32: Tree loaded.\n",
      "33: Tree loaded.\n",
      "34: Tree loaded.\n",
      "35: Tree loaded.\n",
      "36: Tree loaded.\n",
      "37: Tree loaded.\n",
      "38: Tree loaded.\n",
      "39: Tree loaded.\n",
      "40: Tree loaded.\n",
      "41: Tree loaded.\n",
      "42: Tree loaded.\n",
      "43: Tree loaded.\n",
      "44: Tree loaded.\n",
      "45: Tree loaded.\n",
      "46: Tree loaded.\n",
      "47: Tree loaded.\n",
      "48: Tree loaded.\n",
      "49: Tree loaded.\n",
      "50: Tree loaded.\n",
      "51: Tree loaded.\n",
      "52: Tree loaded.\n",
      "53: Tree loaded.\n",
      "54: Tree loaded.\n",
      "55: Tree loaded.\n",
      "56: Tree loaded.\n",
      "57: Tree loaded.\n",
      "58: Tree loaded.\n",
      "59: Tree loaded.\n",
      "60: Tree loaded.\n",
      "61: Tree loaded.\n",
      "62: Tree loaded.\n",
      "63: Tree loaded.\n",
      "64: Tree loaded.\n",
      "65: Tree loaded.\n",
      "66: Tree loaded.\n",
      "67: Tree loaded.\n",
      "68: Tree loaded.\n",
      "69: Tree loaded.\n",
      "70: Tree loaded.\n",
      "71: Tree loaded.\n",
      "72: Tree loaded.\n",
      "73: Tree loaded.\n",
      "74: Tree loaded.\n",
      "75: Tree loaded.\n",
      "76: Tree loaded.\n",
      "77: Tree loaded.\n",
      "78: Tree loaded.\n",
      "79: Tree loaded.\n",
      "80: Tree loaded.\n",
      "81: Tree loaded.\n",
      "82: Tree loaded.\n",
      "83: Tree loaded.\n",
      "84: Tree loaded.\n",
      "85: Tree loaded.\n",
      "86: Tree loaded.\n",
      "87: Tree loaded.\n",
      "88: Tree loaded.\n",
      "89: Tree loaded.\n",
      "90: Tree loaded.\n",
      "91: Tree loaded.\n",
      "92: Tree loaded.\n",
      "93: Tree loaded.\n",
      "94: Tree loaded.\n",
      "95: Tree loaded.\n",
      "96: Tree loaded.\n",
      "97: Tree loaded.\n",
      "98: Tree loaded.\n",
      "99: Tree loaded.\n",
      "100: Tree loaded.\n",
      "101: Tree loaded.\n",
      "102: Tree loaded.\n",
      "103: Tree loaded.\n",
      "104: Tree loaded.\n",
      "105: Tree loaded.\n",
      "106: Tree loaded.\n",
      "107: Tree loaded.\n",
      "108: Tree loaded.\n",
      "109: Tree loaded.\n",
      "110: Tree loaded.\n",
      "111: Tree loaded.\n",
      "112: Tree loaded.\n",
      "113: Tree loaded.\n",
      "114: Tree loaded.\n",
      "115: Tree loaded.\n",
      "116: Tree loaded.\n",
      "117: Tree loaded.\n",
      "118: Tree loaded.\n",
      "119: Tree loaded.\n",
      "120: Tree loaded.\n",
      "121: Tree loaded.\n",
      "122: Tree loaded.\n",
      "123: Tree loaded.\n",
      "124: Tree loaded.\n",
      "125: Tree loaded.\n",
      "126: Tree loaded.\n",
      "127: Tree loaded.\n",
      "Trees trained.\n",
      "Total training time:  469.8187255859375\n"
     ]
    }
   ],
   "source": [
    "# train random forest for Kaggle submission\n",
    "n_trees=128\n",
    "n_sample=len(train_X_max)\n",
    "n_feature=-1 # -1 ==> sqrt(d)\n",
    "max_depth=80\n",
    "\n",
    "rf = random_forest(n_trees=n_trees, n_sample=n_sample, n_feature=n_feature, max_depth=max_depth)\n",
    "\n",
    "start = time.time()\n",
    "rf.train(train_X_max, train_y) # use all data\n",
    "end = time.time()\n",
    "print('Total training time: ', end-start)"
   ]
  },
  {
   "cell_type": "code",
   "execution_count": 88,
   "metadata": {
    "collapsed": false
   },
   "outputs": [],
   "source": [
    "# predict and save labels\n",
    "test_y = rf.predict(test_X_max)\n",
    "df = pd.DataFrame({'Category': test_y.astype(int)})\n",
    "df.index.rename('Id', inplace=True)\n",
    "df.to_csv('spam_dist/spam_rf_tfidf_nt%d_sample%d_m%d_depth%d_nMax%d.csv' % (n_trees, n_sample, n_feature, max_depth, n_max))"
   ]
  },
  {
   "cell_type": "markdown",
   "metadata": {},
   "source": [
    "### 2. census"
   ]
  },
  {
   "cell_type": "code",
   "execution_count": 98,
   "metadata": {
    "collapsed": false,
    "scrolled": false
   },
   "outputs": [
    {
     "name": "stdout",
     "output_type": "stream",
     "text": [
      "(32724, 14)\n",
      "(16118, 14)\n"
     ]
    }
   ],
   "source": [
    "from sklearn.preprocessing import LabelBinarizer, PolynomialFeatures\n",
    "from sklearn.feature_extraction import DictVectorizer\n",
    "train_data = pd.read_csv('./census_dist/train_data.csv').as_matrix()\n",
    "test_X = pd.read_csv('./census_dist/test_data.csv').as_matrix()\n",
    "train_y = train_data[:, -1]\n",
    "train_X = train_data[:, :-1]\n",
    "\n",
    "print(train_X.shape)\n",
    "print(test_X.shape)"
   ]
  },
  {
   "cell_type": "code",
   "execution_count": 99,
   "metadata": {
    "collapsed": false
   },
   "outputs": [],
   "source": [
    "# fill '?' with the most frequent element in that column\n",
    "def imputer(data, cols, method='max', missing='?'):\n",
    "    data_imputed = np.copy(data)\n",
    "    if method == 'max':\n",
    "        for j in cols:\n",
    "            col = data[:, j]\n",
    "            col = col[col != missing]\n",
    "            im = max_count(col)\n",
    "            data_imputed[data_imputed[:, j] == missing, j] = im\n",
    "            \n",
    "    if method == 'mean':\n",
    "        for j in cols:\n",
    "            col = data[:, j]\n",
    "            col = col[col != missing].astype(float)\n",
    "            im = np.mean(col)\n",
    "            data_imputed[data_imputed[:, j] == missing, j] = im\n",
    "            \n",
    "    if method == 'median':\n",
    "        for j in cols:\n",
    "            col = data[:, j]\n",
    "            col = col[col != missing].astype(float)\n",
    "            im = np.median(col)\n",
    "            data_imputed[data_imputed[:, j] == missing, j] = im\n",
    "    return data_imputed\n",
    "        "
   ]
  },
  {
   "cell_type": "code",
   "execution_count": 100,
   "metadata": {
    "collapsed": false
   },
   "outputs": [],
   "source": [
    "# impute data\n",
    "method = 'max'\n",
    "train_Xi = imputer(train_X, cols=np.arange(train_X.shape[1]), method=method, missing='?')\n",
    "test_Xi = imputer(test_X, cols=np.arange(train_X.shape[1]), method=method, missing='?')\n",
    "all_Xi = np.vstack((train_Xi, test_Xi))\n"
   ]
  },
  {
   "cell_type": "code",
   "execution_count": 101,
   "metadata": {
    "collapsed": true
   },
   "outputs": [],
   "source": [
    "# binarize categorical feature\n",
    "lb = LabelBinarizer()\n",
    "# all_Xib = \n",
    "# polynomials for the numerical features\n",
    "poly = PolynomialFeatures(2)\n",
    "all_Xib = poly.fit_transform(all_Xi[:, [0, 2, 4, 10, 11, 12]])\n",
    "\n",
    "for j in [1,3,5,6,7,8,9,13]:\n",
    "    b = lb.fit_transform(all_Xi[:, j])\n",
    "    all_Xib = np.hstack((all_Xib, b))"
   ]
  },
  {
   "cell_type": "code",
   "execution_count": 102,
   "metadata": {
    "collapsed": false
   },
   "outputs": [
    {
     "name": "stdout",
     "output_type": "stream",
     "text": [
      "(32724, 126)\n",
      "(16118, 126)\n"
     ]
    }
   ],
   "source": [
    "train_Xib = all_Xib[:train_Xi.shape[0], :]\n",
    "test_Xib = all_Xib[-test_Xi.shape[0]:, :]\n",
    "print(train_Xib.shape)\n",
    "print(test_Xib.shape)"
   ]
  },
  {
   "cell_type": "code",
   "execution_count": 103,
   "metadata": {
    "collapsed": false
   },
   "outputs": [
    {
     "name": "stdout",
     "output_type": "stream",
     "text": [
      "(26179, 126)\n",
      "(6545, 126)\n"
     ]
    }
   ],
   "source": [
    "# divide data into train/validation\n",
    "S = np.random.choice(range(len(train_y)), int(len(train_y)/5*4), replace=False)\n",
    "train_data = train_Xib[S, :]\n",
    "train_labels = train_y[S]\n",
    "S = np.setdiff1d(range(len(train_y)), S)\n",
    "validation_data = train_Xib[S, :]\n",
    "validation_labels = train_y[S]\n",
    "print(train_data.shape)\n",
    "print(validation_data.shape)"
   ]
  },
  {
   "cell_type": "code",
   "execution_count": 104,
   "metadata": {
    "collapsed": false
   },
   "outputs": [
    {
     "name": "stdout",
     "output_type": "stream",
     "text": [
      "Total training time:  257.9419279098511\n",
      "Accuracy:  0.894457389511\n",
      "Accuracy:  0.838502673797\n"
     ]
    }
   ],
   "source": [
    "dt = decision_tree(15)\n",
    "start = time.time()\n",
    "dt.train(train_data, train_labels)\n",
    "end = time.time()\n",
    "print('Total training time: ', end-start)\n",
    "\n",
    "l = dt.accuracy(train_data, train_labels)\n",
    "print('Accuracy: ', l)\n",
    "\n",
    "l = dt.accuracy(validation_data, validation_labels)\n",
    "print('Accuracy: ', l)"
   ]
  },
  {
   "cell_type": "code",
   "execution_count": 107,
   "metadata": {
    "collapsed": false
   },
   "outputs": [
    {
     "name": "stdout",
     "output_type": "stream",
     "text": [
      "Feature 54 <= 0.500000\n",
      "Feature 4 <= 7055.500000\n",
      "Feature 21 <= 488.000000\n",
      "Feature 12 > 1332.500000\n",
      "Feature 5 <= 2218.500000\n",
      "Feature 84 > 0.500000\n",
      "Feature 9 <= 394.000000\n",
      "Feature 1 > 32.500000\n",
      "Feature 8 > 11725338.500000\n",
      "Classification: 0\n"
     ]
    },
    {
     "data": {
      "text/plain": [
       "array([ 0.])"
      ]
     },
     "execution_count": 107,
     "metadata": {},
     "output_type": "execute_result"
    }
   ],
   "source": [
    "dt.predict(train_Xib[0, :], verbose=2)"
   ]
  },
  {
   "cell_type": "code",
   "execution_count": 108,
   "metadata": {
    "collapsed": false,
    "scrolled": true
   },
   "outputs": [
    {
     "name": "stdout",
     "output_type": "stream",
     "text": [
      "# Trees = 20\n",
      "Trees trained.\n",
      "Total training time:  36.66999387741089\n",
      "Accuracy:  0.894457389511\n",
      "Accuracy:  0.852406417112\n"
     ]
    }
   ],
   "source": [
    "# train random forest\n",
    "n_trees=20\n",
    "n_sample=len(train_data)\n",
    "n_feature=-1 # -1 ==> sqrt(d)\n",
    "max_depth=80\n",
    "\n",
    "rf = random_forest(n_trees=n_trees, n_sample=n_sample, n_feature=n_feature, max_depth=max_depth)\n",
    "\n",
    "start = time.time()\n",
    "rf.train_parallel(train_data, train_labels, verbose=False) # use all data\n",
    "end = time.time()\n",
    "print('Total training time: ', end-start)\n",
    "\n",
    "l = dt.accuracy(train_data, train_labels)\n",
    "print('Accuracy: ', l)\n",
    "\n",
    "l = rf.accuracy(validation_data, validation_labels)\n",
    "print('Accuracy: ', l)"
   ]
  },
  {
   "cell_type": "code",
   "execution_count": 109,
   "metadata": {
    "collapsed": false
   },
   "outputs": [
    {
     "name": "stdout",
     "output_type": "stream",
     "text": [
      "Feature 48 <= 0.500000\n",
      "Feature 48 <= 0.500000\n",
      "Feature 48 <= 0.500000\n",
      "Feature 48 <= 0.500000\n",
      "Feature 48 <= 0.500000\n",
      "Feature 48 <= 0.500000\n",
      "Feature 48 <= 0.500000\n",
      "Feature 48 <= 0.500000\n",
      "Feature 48 <= 0.500000\n",
      "Feature 48 <= 0.500000\n",
      "Feature 48 <= 0.500000\n",
      "Feature 48 <= 0.500000\n",
      "Feature 48 <= 0.500000\n",
      "Feature 48 <= 0.500000\n",
      "Feature 48 <= 0.500000\n",
      "Feature 48 <= 0.500000\n",
      "Feature 48 <= 0.500000\n",
      "Feature 48 <= 0.500000\n",
      "Feature 48 <= 0.500000\n",
      "Feature 48 <= 0.500000\n"
     ]
    },
    {
     "data": {
      "text/plain": [
       "array([ 0.])"
      ]
     },
     "execution_count": 109,
     "metadata": {},
     "output_type": "execute_result"
    }
   ],
   "source": [
    "rf.predict(train_Xib[0, :], verbose=1)"
   ]
  },
  {
   "cell_type": "code",
   "execution_count": 113,
   "metadata": {
    "collapsed": false
   },
   "outputs": [
    {
     "name": "stdout",
     "output_type": "stream",
     "text": [
      "# Trees = 50\n",
      "Trees trained.\n",
      "Total training time:  8.96401572227478\n",
      "Accuracy:  0.76256684492\n",
      "# Trees = 50\n",
      "Trees trained.\n",
      "Total training time:  9.244059801101685\n",
      "Accuracy:  0.76256684492\n",
      "# Trees = 50\n",
      "Trees trained.\n",
      "Total training time:  8.947001457214355\n",
      "Accuracy:  0.805042016807\n",
      "# Trees = 50\n",
      "Trees trained.\n",
      "Total training time:  21.18677544593811\n",
      "Accuracy:  0.81436210848\n",
      "# Trees = 50\n",
      "Trees trained.\n",
      "Total training time:  24.4009530544281\n",
      "Accuracy:  0.812987012987\n",
      "# Trees = 50\n",
      "Trees trained.\n",
      "Total training time:  21.63522744178772\n",
      "Accuracy:  0.821390374332\n",
      "# Trees = 50\n",
      "Trees trained.\n",
      "Total training time:  41.40706014633179\n",
      "Accuracy:  0.838044308633\n",
      "# Trees = 50\n",
      "Trees trained.\n",
      "Total training time:  20.650776147842407\n",
      "Accuracy:  0.84782276547\n",
      "# Trees = 50\n",
      "Trees trained.\n",
      "Total training time:  21.616406440734863\n",
      "Accuracy:  0.852100840336\n",
      "# Trees = 50\n",
      "Trees trained.\n",
      "Total training time:  26.644749402999878\n",
      "Accuracy:  0.850267379679\n",
      "# Trees = 50\n",
      "Trees trained.\n",
      "Total training time:  42.28808116912842\n",
      "Accuracy:  0.850267379679\n",
      "# Trees = 50\n",
      "Trees trained.\n",
      "Total training time:  31.521824836730957\n",
      "Accuracy:  0.852864782277\n",
      "# Trees = 50\n",
      "Trees trained.\n",
      "Total training time:  25.180521488189697\n",
      "Accuracy:  0.853323147441\n",
      "# Trees = 50\n",
      "Trees trained.\n",
      "Total training time:  36.69718289375305\n",
      "Accuracy:  0.855614973262\n",
      "# Trees = 50\n",
      "Trees trained.\n",
      "Total training time:  31.006255865097046\n",
      "Accuracy:  0.853170359053\n",
      "# Trees = 50\n",
      "Trees trained.\n",
      "Total training time:  31.8244309425354\n",
      "Accuracy:  0.853628724217\n",
      "# Trees = 50\n",
      "Trees trained.\n",
      "Total training time:  35.67875671386719\n",
      "Accuracy:  0.854698242934\n",
      "# Trees = 50\n",
      "Trees trained.\n",
      "Total training time:  42.20683312416077\n",
      "Accuracy:  0.857142857143\n",
      "# Trees = 50\n",
      "Trees trained.\n",
      "Total training time:  33.989282846450806\n",
      "Accuracy:  0.856073338426\n",
      "# Trees = 50\n",
      "Trees trained.\n",
      "Total training time:  37.31991720199585\n",
      "Accuracy:  0.856073338426\n",
      "# Trees = 50\n",
      "Trees trained.\n",
      "Total training time:  41.34355902671814\n",
      "Accuracy:  0.858059587471\n",
      "# Trees = 50\n",
      "Trees trained.\n",
      "Total training time:  46.891753911972046\n",
      "Accuracy:  0.858823529412\n",
      "# Trees = 50\n",
      "Trees trained.\n",
      "Total training time:  36.329352378845215\n",
      "Accuracy:  0.853934300993\n",
      "# Trees = 50\n",
      "Trees trained.\n",
      "Total training time:  46.70114326477051\n",
      "Accuracy:  0.854545454545\n",
      "# Trees = 50\n",
      "Trees trained.\n",
      "Total training time:  43.0724093914032\n",
      "Accuracy:  0.857295645531\n",
      "# Trees = 50\n",
      "Trees trained.\n",
      "Total training time:  47.511680126190186\n",
      "Accuracy:  0.857601222307\n",
      "# Trees = 50\n",
      "Trees trained.\n",
      "Total training time:  44.98720932006836\n",
      "Accuracy:  0.858517952636\n",
      "# Trees = 50\n",
      "Trees trained.\n",
      "Total training time:  44.32628273963928\n",
      "Accuracy:  0.856684491979\n",
      "# Trees = 50\n",
      "Trees trained.\n",
      "Total training time:  50.88104200363159\n",
      "Accuracy:  0.854239877769\n",
      "# Trees = 50\n",
      "Trees trained.\n",
      "Total training time:  43.03969478607178\n",
      "Accuracy:  0.857906799083\n",
      "# Trees = 50\n",
      "Trees trained.\n",
      "Total training time:  45.190943002700806\n",
      "Accuracy:  0.859129106188\n",
      "# Trees = 50\n",
      "Trees trained.\n",
      "Total training time:  50.88291811943054\n",
      "Accuracy:  0.856073338426\n",
      "# Trees = 50\n",
      "Trees trained.\n",
      "Total training time:  50.88198494911194\n",
      "Accuracy:  0.856837280367\n",
      "# Trees = 50\n",
      "Trees trained.\n",
      "Total training time:  46.9473021030426\n",
      "Accuracy:  0.857295645531\n",
      "# Trees = 50\n",
      "Trees trained.\n",
      "Total training time:  65.7030930519104\n",
      "Accuracy:  0.854239877769\n",
      "# Trees = 50\n",
      "Trees trained.\n",
      "Total training time:  42.305405139923096\n",
      "Accuracy:  0.855309396486\n",
      "# Trees = 50\n",
      "Trees trained.\n",
      "Total training time:  49.113038063049316\n",
      "Accuracy:  0.857754010695\n",
      "# Trees = 50\n",
      "Trees trained.\n",
      "Total training time:  46.168540716171265\n",
      "Accuracy:  0.854851031322\n",
      "# Trees = 50\n",
      "Trees trained.\n",
      "Total training time:  53.577101945877075\n",
      "Accuracy:  0.857142857143\n",
      "# Trees = 50\n",
      "Trees trained.\n",
      "Total training time:  44.908695936203\n",
      "Accuracy:  0.856073338426\n"
     ]
    },
    {
     "data": {
      "text/plain": [
       "[<matplotlib.lines.Line2D at 0x7ff6eaf2de10>]"
      ]
     },
     "execution_count": 113,
     "metadata": {},
     "output_type": "execute_result"
    }
   ],
   "source": [
    "# accuracy-depth relationship\n",
    "import matplotlib.pyplot as plt\n",
    "n_trees=50\n",
    "n_sample=len(train_data)\n",
    "n_feature=-1 # -1 ==> sqrt(d)\n",
    "\n",
    "all_depth = np.arange(1, 41)\n",
    "all_l = []\n",
    "for max_depth in all_depth:\n",
    "\n",
    "    rf = random_forest(n_trees=n_trees, n_sample=n_sample, n_feature=n_feature, max_depth=max_depth)\n",
    "\n",
    "    start = time.time()\n",
    "    rf.train_parallel(train_data, train_labels, verbose=False) # use all data\n",
    "    end = time.time()\n",
    "    print('Total training time: ', end-start)\n",
    "\n",
    "    l = rf.accuracy(validation_data, validation_labels)\n",
    "    print('Accuracy: ', l)\n",
    "    all_l.append(l)\n",
    "    \n"
   ]
  },
  {
   "cell_type": "code",
   "execution_count": 114,
   "metadata": {
    "collapsed": false
   },
   "outputs": [
    {
     "data": {
      "image/png": "[encoded data removed]",
      "text/plain": [
       "<matplotlib.figure.Figure at 0x7ff6eb4b3f28>"
      ]
     },
     "metadata": {},
     "output_type": "display_data"
    }
   ],
   "source": [
    "plt.plot(all_depth, all_l)\n",
    "plt.xlabel('Max Depth')\n",
    "plt.ylabel('Accuracy')\n",
    "plt.show()"
   ]
  },
  {
   "cell_type": "code",
   "execution_count": 149,
   "metadata": {
    "collapsed": false,
    "scrolled": false
   },
   "outputs": [
    {
     "name": "stdout",
     "output_type": "stream",
     "text": [
      "# Trees = 128\n",
      "Trees trained.\n",
      "Total training time:  267.12233543395996\n"
     ]
    }
   ],
   "source": [
    "# train random forest for Kaggle submission\n",
    "n_trees=128\n",
    "n_sample=len(train_Xib)\n",
    "n_feature=-1 # -1 ==> sqrt(d)\n",
    "max_depth=80\n",
    "\n",
    "rf = random_forest(n_trees=n_trees, n_sample=n_sample, n_feature=n_feature, max_depth=max_depth)\n",
    "\n",
    "start = time.time()\n",
    "rf.train_parallel(train_Xib, train_y, verbose=False) # use all data\n",
    "end = time.time()\n",
    "print('Total training time: ', end-start)"
   ]
  },
  {
   "cell_type": "code",
   "execution_count": 150,
   "metadata": {
    "collapsed": true
   },
   "outputs": [],
   "source": [
    "# predict and save labels\n",
    "test_y = rf.predict(test_Xib)"
   ]
  },
  {
   "cell_type": "code",
   "execution_count": 154,
   "metadata": {
    "collapsed": false
   },
   "outputs": [],
   "source": [
    "df = pd.DataFrame({'Category': test_y.astype(int)})\n",
    "df.index += 1\n",
    "df.index.rename('Id', inplace=True)\n",
    "df.to_csv('census_dist/census_rf_poly2_%s_binirize_nt%d_sample%d_m%d_depth%d.csv' \\\n",
    "          % (method, n_trees, n_sample, n_feature, max_depth))"
   ]
  },
  {
   "cell_type": "markdown",
   "metadata": {},
   "source": [
    "### 3. Titanic"
   ]
  },
  {
   "cell_type": "code",
   "execution_count": 24,
   "metadata": {
    "collapsed": false
   },
   "outputs": [
    {
     "data": {
      "text/html": [
       "<div>\n",
       "<table border=\"1\" class=\"dataframe\">\n",
       "  <thead>\n",
       "    <tr style=\"text-align: right;\">\n",
       "      <th></th>\n",
       "      <th>pclass</th>\n",
       "      <th>sex</th>\n",
       "      <th>age</th>\n",
       "      <th>sibsp</th>\n",
       "      <th>parch</th>\n",
       "      <th>fare</th>\n",
       "      <th>embarked</th>\n",
       "    </tr>\n",
       "  </thead>\n",
       "  <tbody>\n",
       "    <tr>\n",
       "      <th>0</th>\n",
       "      <td>3</td>\n",
       "      <td>male</td>\n",
       "      <td>?</td>\n",
       "      <td>0</td>\n",
       "      <td>0</td>\n",
       "      <td>8.05</td>\n",
       "      <td>S</td>\n",
       "    </tr>\n",
       "    <tr>\n",
       "      <th>1</th>\n",
       "      <td>1</td>\n",
       "      <td>male</td>\n",
       "      <td>22</td>\n",
       "      <td>0</td>\n",
       "      <td>0</td>\n",
       "      <td>135.633</td>\n",
       "      <td>C</td>\n",
       "    </tr>\n",
       "    <tr>\n",
       "      <th>2</th>\n",
       "      <td>2</td>\n",
       "      <td>male</td>\n",
       "      <td>23</td>\n",
       "      <td>0</td>\n",
       "      <td>0</td>\n",
       "      <td>15.0458</td>\n",
       "      <td>C</td>\n",
       "    </tr>\n",
       "    <tr>\n",
       "      <th>3</th>\n",
       "      <td>2</td>\n",
       "      <td>male</td>\n",
       "      <td>42</td>\n",
       "      <td>0</td>\n",
       "      <td>0</td>\n",
       "      <td>13</td>\n",
       "      <td>S</td>\n",
       "    </tr>\n",
       "    <tr>\n",
       "      <th>4</th>\n",
       "      <td>3</td>\n",
       "      <td>male</td>\n",
       "      <td>20</td>\n",
       "      <td>0</td>\n",
       "      <td>0</td>\n",
       "      <td>9.8458</td>\n",
       "      <td>S</td>\n",
       "    </tr>\n",
       "  </tbody>\n",
       "</table>\n",
       "</div>"
      ],
      "text/plain": [
       "  pclass   sex age sibsp parch     fare embarked\n",
       "0      3  male   ?     0     0     8.05        S\n",
       "1      1  male  22     0     0  135.633        C\n",
       "2      2  male  23     0     0  15.0458        C\n",
       "3      2  male  42     0     0       13        S\n",
       "4      3  male  20     0     0   9.8458        S"
      ]
     },
     "execution_count": 24,
     "metadata": {},
     "output_type": "execute_result"
    }
   ],
   "source": [
    "train_X = pd.read_csv('./titanic_dist/titanic_training.csv')\n",
    "test_X = pd.read_csv('./titanic_dist/titanic_testing_data.csv')\n",
    "train_y = train_X.pop('survived').as_matrix()\n",
    "train_X.drop(['ticket', 'cabin'], inplace=True, axis=1)\n",
    "test_X.drop(['ticket', 'cabin'], inplace=True, axis=1)\n",
    "\n",
    "train_X.fillna(value='?', inplace=True)\n",
    "test_X.fillna(value='?', inplace=True)\n",
    "\n",
    "train_X.head()"
   ]
  },
  {
   "cell_type": "code",
   "execution_count": 25,
   "metadata": {
    "collapsed": false
   },
   "outputs": [
    {
     "name": "stdout",
     "output_type": "stream",
     "text": [
      "(1000, 7)\n",
      "(310, 7)\n"
     ]
    }
   ],
   "source": [
    "train_X = train_X.as_matrix()\n",
    "test_X = test_X.as_matrix()\n",
    "\n",
    "print(train_X.shape)\n",
    "print(test_X.shape)"
   ]
  },
  {
   "cell_type": "code",
   "execution_count": 36,
   "metadata": {
    "collapsed": false
   },
   "outputs": [
    {
     "name": "stdout",
     "output_type": "stream",
     "text": [
      "(1000, 7)\n",
      "(310, 7)\n"
     ]
    }
   ],
   "source": [
    "# impute data\n",
    "train_Xi = imputer(train_X, cols=[1,6], method='max', missing='?')\n",
    "test_Xi = imputer(test_X, cols=[1,6], method='max', missing='?')\n",
    "method = 'median'\n",
    "train_Xi = imputer(train_Xi, cols=[0,2,3,4,5], method=method, missing='?')\n",
    "test_Xi = imputer(test_Xi, cols=[0,2,3,4,5], method=method, missing='?')\n",
    "all_Xi = np.vstack((train_Xi, test_Xi))\n",
    "\n",
    "print(train_Xi.shape)\n",
    "print(test_Xi.shape)"
   ]
  },
  {
   "cell_type": "code",
   "execution_count": 60,
   "metadata": {
    "collapsed": false
   },
   "outputs": [],
   "source": [
    "# binarize categorical feature\n",
    "lb = LabelBinarizer()\n",
    "\n",
    "\n",
    "all_Xib = all_Xi[:, [0,2,3,4,5]]\n",
    "\n",
    "for j in [1, 6]:\n",
    "    b = lb.fit_transform(all_Xi[:, j])\n",
    "    all_Xib = np.hstack((all_Xib, b))\n",
    "    \n",
    "# polynomials for the numerical features\n",
    "# poly = PolynomialFeatures(2)\n",
    "# all_Xib = poly.fit_transform(all_Xib)"
   ]
  },
  {
   "cell_type": "code",
   "execution_count": 61,
   "metadata": {
    "collapsed": false
   },
   "outputs": [
    {
     "name": "stdout",
     "output_type": "stream",
     "text": [
      "(1000, 9)\n",
      "(310, 9)\n"
     ]
    }
   ],
   "source": [
    "train_Xib = all_Xib[:train_Xi.shape[0], :]\n",
    "test_Xib = all_Xib[-test_Xi.shape[0]:, :]\n",
    "print(train_Xib.shape)\n",
    "print(test_Xib.shape)"
   ]
  },
  {
   "cell_type": "code",
   "execution_count": 39,
   "metadata": {
    "collapsed": false
   },
   "outputs": [
    {
     "name": "stdout",
     "output_type": "stream",
     "text": [
      "(800, 9)\n",
      "(200, 9)\n"
     ]
    }
   ],
   "source": [
    "# divide data into train/validation\n",
    "S = np.random.choice(range(len(train_y)), int(len(train_y)/5*4), replace=False)\n",
    "train_data = train_Xib[S, :]\n",
    "train_labels = train_y[S]\n",
    "S = np.setdiff1d(range(len(train_y)), S)\n",
    "validation_data = train_Xib[S, :]\n",
    "validation_labels = train_y[S]\n",
    "print(train_data.shape)\n",
    "print(validation_data.shape)"
   ]
  },
  {
   "cell_type": "code",
   "execution_count": 51,
   "metadata": {
    "collapsed": false
   },
   "outputs": [
    {
     "name": "stdout",
     "output_type": "stream",
     "text": [
      "Total training time:  0.14397740364074707\n",
      "Accuracy:  0.7925\n",
      "Accuracy:  0.79\n"
     ]
    }
   ],
   "source": [
    "dt = decision_tree(3)\n",
    "start = time.time()\n",
    "dt.train(train_data, train_labels)\n",
    "end = time.time()\n",
    "print('Total training time: ', end-start)\n",
    "\n",
    "l = dt.accuracy(train_data, train_labels)\n",
    "print('Accuracy: ', l)\n",
    "\n",
    "l = dt.accuracy(validation_data, validation_labels)\n",
    "print('Accuracy: ', l)"
   ]
  },
  {
   "cell_type": "code",
   "execution_count": 59,
   "metadata": {
    "collapsed": false
   },
   "outputs": [
    {
     "data": {
      "text/plain": [
       "1.0"
      ]
     },
     "execution_count": 59,
     "metadata": {},
     "output_type": "execute_result"
    }
   ],
   "source": [
    "dt.root.right.left.label"
   ]
  },
  {
   "cell_type": "code",
   "execution_count": 32,
   "metadata": {
    "collapsed": false
   },
   "outputs": [
    {
     "name": "stdout",
     "output_type": "stream",
     "text": [
      "# Trees = 128\n"
     ]
    },
    {
     "name": "stderr",
     "output_type": "stream",
     "text": [
      "/working/lupolab/eason/anaconda3/envs/dsb2017/lib/python3.5/site-packages/ipykernel/__main__.py:31: RuntimeWarning: invalid value encountered in double_scalars\n",
      "/working/lupolab/eason/anaconda3/envs/dsb2017/lib/python3.5/site-packages/ipykernel/__main__.py:31: RuntimeWarning: invalid value encountered in double_scalars\n",
      "/working/lupolab/eason/anaconda3/envs/dsb2017/lib/python3.5/site-packages/ipykernel/__main__.py:31: RuntimeWarning: invalid value encountered in double_scalars\n"
     ]
    },
    {
     "name": "stdout",
     "output_type": "stream",
     "text": [
      "Trees trained.\n",
      "Total training time:  3.306265354156494\n",
      "Accuracy:  0.92375\n",
      "Accuracy:  0.87\n"
     ]
    }
   ],
   "source": [
    "# train random forest\n",
    "n_trees=128\n",
    "n_sample=len(train_data)\n",
    "n_feature=-1 # -1 ==> sqrt(d)\n",
    "max_depth=30\n",
    "\n",
    "rf = random_forest(n_trees=n_trees, n_sample=n_sample, n_feature=n_feature, max_depth=max_depth)\n",
    "\n",
    "start = time.time()\n",
    "rf.train_parallel(train_data, train_labels, verbose=False) # use all data\n",
    "end = time.time()\n",
    "print('Total training time: ', end-start)\n",
    "\n",
    "l = dt.accuracy(train_data, train_labels)\n",
    "print('Accuracy: ', l)\n",
    "\n",
    "l = rf.accuracy(validation_data, validation_labels)\n",
    "print('Accuracy: ', l)"
   ]
  },
  {
   "cell_type": "code",
   "execution_count": 206,
   "metadata": {
    "collapsed": false
   },
   "outputs": [
    {
     "name": "stdout",
     "output_type": "stream",
     "text": [
      "# Trees = 128\n"
     ]
    },
    {
     "name": "stderr",
     "output_type": "stream",
     "text": [
      "/working/lupolab/eason/anaconda3/envs/dsb2017/lib/python3.5/site-packages/ipykernel/__main__.py:31: RuntimeWarning: invalid value encountered in double_scalars\n"
     ]
    },
    {
     "name": "stdout",
     "output_type": "stream",
     "text": [
      "Trees trained.\n",
      "Total training time:  5.065195560455322\n"
     ]
    }
   ],
   "source": [
    "# train random forest\n",
    "n_trees=128\n",
    "n_sample=len(train_Xib)\n",
    "n_feature=-1 # -1 ==> sqrt(d)\n",
    "max_depth=80\n",
    "\n",
    "rf = random_forest(n_trees=n_trees, n_sample=n_sample, n_feature=n_feature, max_depth=max_depth)\n",
    "\n",
    "start = time.time()\n",
    "rf.train_parallel(train_Xib, train_y, verbose=False) # use all data\n",
    "end = time.time()\n",
    "print('Total training time: ', end-start)"
   ]
  },
  {
   "cell_type": "code",
   "execution_count": 141,
   "metadata": {
    "collapsed": true
   },
   "outputs": [],
   "source": [
    "# predict and save labels\n",
    "test_y = rf.predict(test_Xib)\n",
    "df = pd.DataFrame({'Category': test_y.astype(int)})\n",
    "df.index += 1\n",
    "df.index.rename('Id', inplace=True)\n",
    "df.to_csv('titanic_dist/titanic_rf_max_binirize_nt%d_sample%d_m%d_depth%d.csv' % (n_trees, n_sample, n_feature, max_depth))"
   ]
  },
  {
   "cell_type": "code",
   "execution_count": 66,
   "metadata": {
    "collapsed": false
   },
   "outputs": [
    {
     "data": {
      "text/plain": [
       "True"
      ]
     },
     "execution_count": 66,
     "metadata": {},
     "output_type": "execute_result"
    }
   ],
   "source": [
    "# writeup\n",
    "graph = pydot.Dot(graph_type='graph')\n",
    "graph.add_edge(pydot.Edge(\"sex, th=0.5 (male=1)\", \"pclass, th=2.5\"))\n",
    "graph.add_edge(pydot.Edge(\"sex, th=0.5 (male=1)\", \"age, th=9.5\"))\n",
    "graph.add_edge(pydot.Edge(\"pclass, th=2.5\", \"1 \"))\n",
    "graph.add_edge(pydot.Edge(\"pclass, th=2.5\", \"1  \"))\n",
    "graph.add_edge(pydot.Edge(\"age, th=9.5\", \"1\"))\n",
    "graph.add_edge(pydot.Edge(\"age, th=9.5\", \"0\"))\n",
    "# ok, we are set, let's save our graph into a file\n",
    "graph.write_png('graph.png')"
   ]
  }
 ],
 "metadata": {
  "anaconda-cloud": {},
  "kernelspec": {
   "display_name": "Python 3",
   "language": "python",
   "name": "python3"
  },
  "language_info": {
   "codemirror_mode": {
    "name": "ipython",
    "version": 3
   },
   "file_extension": ".py",
   "mimetype": "text/x-python",
   "name": "python",
   "nbconvert_exporter": "python",
   "pygments_lexer": "ipython3",
   "version": "3.5.2"
  }
 },
 "nbformat": 4,
 "nbformat_minor": 1
}
