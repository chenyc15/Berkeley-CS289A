{
 "cells": [
  {
   "cell_type": "code",
   "execution_count": 1,
   "metadata": {
    "collapsed": false,
    "deletable": true,
    "editable": true
   },
   "outputs": [],
   "source": [
    "import numpy as np\n",
    "import scipy.io\n",
    "import matplotlib.pyplot as plt"
   ]
  },
  {
   "cell_type": "markdown",
   "metadata": {
    "deletable": true,
    "editable": true
   },
   "source": [
    "## read data"
   ]
  },
  {
   "cell_type": "code",
   "execution_count": 2,
   "metadata": {
    "collapsed": true,
    "deletable": true,
    "editable": true
   },
   "outputs": [],
   "source": [
    "data_path = 'data/joke_data/'\n",
    "train = scipy.io.loadmat(data_path + 'joke_train.mat')\n",
    "train = train['train']"
   ]
  },
  {
   "cell_type": "code",
   "execution_count": 3,
   "metadata": {
    "collapsed": false,
    "deletable": true,
    "editable": true
   },
   "outputs": [
    {
     "name": "stdout",
     "output_type": "stream",
     "text": [
      "(3690, 3)\n"
     ]
    }
   ],
   "source": [
    "file = open(data_path + 'validation.txt')\n",
    "data = file.read()\n",
    "data = data.split('\\n')\n",
    "validation = []\n",
    "for i in data[:-1]:\n",
    "    ii = list(map(int, i.split(',')))\n",
    "    validation.append(ii)\n",
    "validation = np.array(validation)\n",
    "print(validation.shape)"
   ]
  },
  {
   "cell_type": "code",
   "execution_count": 4,
   "metadata": {
    "collapsed": false,
    "deletable": true,
    "editable": true
   },
   "outputs": [
    {
     "data": {
      "text/plain": [
       "(902409, 3)"
      ]
     },
     "execution_count": 4,
     "metadata": {},
     "output_type": "execute_result"
    }
   ],
   "source": [
    "file = open(data_path + 'query.txt')\n",
    "data = file.read()\n",
    "data = data.split('\\n')\n",
    "query = []\n",
    "for i in data[:-1]:\n",
    "    ii = list(map(int, i.split(',')))\n",
    "    query.append(ii)\n",
    "query = np.array(query)\n",
    "query.shape"
   ]
  },
  {
   "cell_type": "markdown",
   "metadata": {
    "deletable": true,
    "editable": true
   },
   "source": [
    "## Latent factor model"
   ]
  },
  {
   "cell_type": "code",
   "execution_count": 5,
   "metadata": {
    "collapsed": false,
    "deletable": true,
    "editable": true
   },
   "outputs": [],
   "source": [
    "def evaluate_zf_MSE(R, d):\n",
    "    Rzf = np.nan_to_num(R)\n",
    "    u, s, v = np.linalg.svd(Rzf, full_matrices=0)\n",
    "    users = np.multiply(u[:, :d], np.sqrt(s[:d]))\n",
    "    items = np.multiply(v[:d, :].T, np.sqrt(s[:d])).T\n",
    "    Rapprox = users.dot(items)\n",
    "    diff = np.square(Rapprox - Rzf)\n",
    "    idx = np.logical_not(np.isnan(R))\n",
    "    MSE = np.sum(diff[idx]) / np.sum(idx)\n",
    "    return users, items, MSE\n",
    "    "
   ]
  },
  {
   "cell_type": "code",
   "execution_count": 6,
   "metadata": {
    "collapsed": true,
    "deletable": true,
    "editable": true
   },
   "outputs": [],
   "source": [
    "def validation_accuracy(users, items, validation):\n",
    "    N = len(validation)\n",
    "    Ncorrect = 0\n",
    "    for i in validation:\n",
    "        predict = users[i[0]-1, :].dot(items[:, i[1]-1])\n",
    "        if predict * (i[2]-0.5) > 0:\n",
    "            Ncorrect += 1\n",
    "    return Ncorrect/float(N)"
   ]
  },
  {
   "cell_type": "code",
   "execution_count": 7,
   "metadata": {
    "collapsed": false,
    "deletable": true,
    "editable": true
   },
   "outputs": [
    {
     "name": "stdout",
     "output_type": "stream",
     "text": [
      "d=2, validation accuracy=0.705149\n",
      "d=5, validation accuracy=0.715447\n",
      "d=10, validation accuracy=0.716531\n",
      "d=20, validation accuracy=0.685908\n"
     ]
    },
    {
     "data": {
      "image/png": "[encoded data removed]",
      "text/plain": [
       "<matplotlib.figure.Figure at 0x1e620b749e8>"
      ]
     },
     "metadata": {},
     "output_type": "display_data"
    }
   ],
   "source": [
    "all_d = [2, 5, 10, 20]\n",
    "MSE = np.zeros(len(all_d))\n",
    "for i, d in enumerate(all_d):\n",
    "    users, items, MSE[i] = evaluate_zf_MSE(train, d)\n",
    "    print('d=%d, validation accuracy=%f' % (d, validation_accuracy(users, items, validation)))\n",
    "plt.plot(all_d, MSE)\n",
    "plt.xlabel('d')\n",
    "plt.ylabel('MSE')\n",
    "plt.show()"
   ]
  },
  {
   "cell_type": "code",
   "execution_count": 8,
   "metadata": {
    "collapsed": false,
    "deletable": true,
    "editable": true
   },
   "outputs": [
    {
     "data": {
      "image/png": "[encoded data removed]",
      "text/plain": [
       "<matplotlib.figure.Figure at 0x1e61ce58be0>"
      ]
     },
     "metadata": {},
     "output_type": "display_data"
    }
   ],
   "source": [
    "# plot for (b)\n",
    "plt.plot([2, 5, 10, 20], [13.4490305364077, 15.3115781030497, 18.7490313967159, 25.5368811320869])\n",
    "plt.xlabel('d')\n",
    "plt.ylabel('MSE')\n",
    "plt.show()"
   ]
  }
 ],
 "metadata": {
  "kernelspec": {
   "display_name": "Python 3",
   "language": "python",
   "name": "python3"
  },
  "language_info": {
   "codemirror_mode": {
    "name": "ipython",
    "version": 3
   },
   "file_extension": ".py",
   "mimetype": "text/x-python",
   "name": "python",
   "nbconvert_exporter": "python",
   "pygments_lexer": "ipython3",
   "version": "3.5.3"
  }
 },
 "nbformat": 4,
 "nbformat_minor": 2
}
