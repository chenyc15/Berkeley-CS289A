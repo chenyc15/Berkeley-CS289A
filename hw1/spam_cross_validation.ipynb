{
 "cells": [
  {
   "cell_type": "code",
   "execution_count": 2,
   "metadata": {
    "collapsed": true
   },
   "outputs": [],
   "source": [
    "from sklearn import svm\n",
    "import scipy.io\n",
    "import matplotlib.pyplot as plt\n",
    "import numpy as np\n",
    "import random"
   ]
  },
  {
   "cell_type": "code",
   "execution_count": 3,
   "metadata": {
    "collapsed": true
   },
   "outputs": [],
   "source": [
    "def k_partition(seq, k):\n",
    "\tavg = len(seq) / float(k)\n",
    "\tout = []\n",
    "\tlast = 0.0\n",
    "\twhile last < len(seq):\n",
    "\t\tout.append(seq[int(last):int(last + avg)])\n",
    "\t\tlast += avg\n",
    "\treturn out"
   ]
  },
  {
   "cell_type": "code",
   "execution_count": 6,
   "metadata": {
    "collapsed": false
   },
   "outputs": [
    {
     "name": "stdout",
     "output_type": "stream",
     "text": [
      "1 :  0.931847548616\n",
      "2 :  0.94441640526\n",
      "3 :  0.951908417013\n",
      "4 :  0.958432784817\n",
      "5 :  0.960850580353\n",
      "6 :  0.963509337633\n",
      "7 :  0.966167802838\n",
      "8 :  0.967859500318\n",
      "9 :  0.969309651905\n",
      "10 :  0.970517381374\n",
      "11 :  0.970759219342\n",
      "12 :  0.972209370929\n",
      "13 :  0.972451208898\n",
      "14 :  0.97293459276\n",
      "15 :  0.973176430729\n",
      "16 :  0.973901360485\n",
      "17 :  0.974626290241\n",
      "18 :  0.974625998166\n",
      "19 :  0.974142906378\n",
      "20 :  0.974384744347\n",
      "21 :  0.975351512071\n",
      "22 :  0.975109674103\n",
      "23 :  0.975109674103\n",
      "24 :  0.975351219997\n",
      "25 :  0.975350927922\n",
      "26 :  0.975350927922\n",
      "27 :  0.975350927922\n",
      "28 :  0.975350927922\n",
      "29 :  0.975592181741\n",
      "30 :  0.976317111497\n",
      "31 :  0.976317111497\n",
      "32 :  0.976317111497\n",
      "33 :  0.976317111497\n",
      "34 :  0.976317111497\n",
      "35 :  0.976075565603\n",
      "36 :  0.976075565603\n",
      "37 :  0.975833727634\n",
      "38 :  0.975833727634\n",
      "39 :  0.975833727634\n",
      "40 :  0.975833727634\n",
      "41 :  0.976075565603\n",
      "42 :  0.976317111497\n",
      "43 :  0.976558949465\n",
      "44 :  0.976800787434\n",
      "45 :  0.976800787434\n",
      "46 :  0.976558949465\n",
      "47 :  0.976558949465\n",
      "48 :  0.976317111497\n",
      "49 :  0.976317111497\n",
      "50 :  0.976317111497\n",
      "51 :  0.976317111497\n",
      "52 :  0.976317111497\n",
      "53 :  0.976317111497\n",
      "54 :  0.976075565603\n",
      "55 :  0.976075565603\n",
      "56 :  0.976075565603\n",
      "57 :  0.976075565603\n",
      "58 :  0.975834019709\n",
      "59 :  0.975834019709\n",
      "60 :  0.975834019709\n",
      "61 :  0.975834019709\n",
      "62 :  0.976075565603\n",
      "63 :  0.976075565603\n",
      "64 :  0.976558949465\n",
      "65 :  0.976317111497\n",
      "66 :  0.97655865739\n",
      "67 :  0.97655865739\n",
      "68 :  0.97655865739\n",
      "69 :  0.976317111497\n",
      "70 :  0.976075273528\n",
      "71 :  0.976075273528\n",
      "72 :  0.975833727634\n",
      "73 :  0.976075273528\n",
      "74 :  0.976075273528\n",
      "75 :  0.976075273528\n",
      "76 :  0.976316819422\n",
      "77 :  0.976316819422\n",
      "78 :  0.97655865739\n",
      "79 :  0.97655865739\n",
      "80 :  0.97655865739\n",
      "81 :  0.97655865739\n",
      "82 :  0.97655865739\n",
      "83 :  0.976800495359\n",
      "84 :  0.976800495359\n",
      "85 :  0.976800495359\n",
      "86 :  0.976800495359\n",
      "87 :  0.976558949465\n",
      "88 :  0.976800495359\n",
      "89 :  0.976558949465\n",
      "90 :  0.976800495359\n",
      "91 :  0.976558949465\n",
      "92 :  0.976800495359\n",
      "93 :  0.976800495359\n",
      "94 :  0.976800495359\n",
      "95 :  0.976800495359\n",
      "96 :  0.976800495359\n",
      "97 :  0.976800495359\n",
      "98 :  0.97655865739\n",
      "99 :  0.97655865739\n",
      "[0.93184754861585728, 0.94441640525968373, 0.95190841701277551, 0.95843278481678129, 0.96085058035270965, 0.96350933763267488, 0.96616780283779913, 0.96785950031836143, 0.96930965190520413, 0.97051738137380317, 0.97075921934236431, 0.97220937092920678, 0.97245120889776793, 0.9729345927600489, 0.97317643072860993, 0.97390136048461051, 0.9746262902406112, 0.97462599816576989, 0.97414290637833045, 0.9743847443468916, 0.97535151207145321, 0.97510967410289218, 0.97510967410289218, 0.9753512199966119, 0.97535092792177081, 0.97535092792177081, 0.97535092792177081, 0.97535092792177081, 0.97559218174064932, 0.97631711149665001, 0.97631711149665001, 0.97631711149665001, 0.97631711149665001, 0.97631711149665001, 0.97607556560293018, 0.97607556560293018, 0.97583372763436904, 0.97583372763436904, 0.97583372763436904, 0.97583372763436904, 0.97607556560293018, 0.97631711149664979, 0.97655894946521093, 0.97680078743377197, 0.97680078743377197, 0.97655894946521093, 0.97655894946521093, 0.97631711149664979, 0.97631711149664979, 0.97631711149664979, 0.97631711149664979, 0.97631711149664979, 0.97631711149664979, 0.97607556560292996, 0.97607556560292996, 0.97607556560292996, 0.97607556560292996, 0.97583401970921035, 0.97583401970921035, 0.97583401970921035, 0.97583401970921035, 0.97607556560292996, 0.97607556560292996, 0.97655894946521093, 0.97631711149664979, 0.97655865739036973, 0.97655865739036973, 0.97655865739036973, 0.97631711149665001, 0.97607527352808887, 0.97607527352808887, 0.97583372763436904, 0.97607527352808887, 0.97607527352808887, 0.97607527352808887, 0.9763168194218087, 0.9763168194218087, 0.97655865739036973, 0.97655865739036973, 0.97655865739036973, 0.97655865739036973, 0.97655865739036973, 0.97680049535893088, 0.97680049535893088, 0.97680049535893088, 0.97680049535893088, 0.97655894946521093, 0.97680049535893088, 0.97655894946521093, 0.97680049535893088, 0.97655894946521093, 0.97680049535893088, 0.97680049535893088, 0.97680049535893088, 0.97680049535893088, 0.97680049535893088, 0.97680049535893088, 0.97655865739036973, 0.97655865739036973]\n",
      "Max*** 44 :  0.976800787434\n"
     ]
    },
    {
     "data": {
      "image/png": "[encoded data removed]",
      "text/plain": [
       "<matplotlib.figure.Figure at 0x7feb377b7ef0>"
      ]
     },
     "metadata": {},
     "output_type": "display_data"
    }
   ],
   "source": [
    "pathname = 'hw01_data/'\n",
    "\n",
    "spam = scipy.io.loadmat(pathname + 'spam/spam_data_BOW_validation.mat')\n",
    "all_validation_accuracy = []\n",
    "# all_C = [1e-3, 1e-2, 1e-1, 1, 10, 100, 1000]\n",
    "all_C = list(range(1, 100))\n",
    "\n",
    "all_training_data = spam['training_data']\n",
    "all_training_labels = spam['training_labels'].ravel()\n",
    "\n",
    "idx = list(range(0,all_training_data.shape[0]))\n",
    "random.shuffle(idx)\n",
    "\n",
    "k = 5\n",
    "idx_k = k_partition(idx, k)\n",
    "\n",
    "for C in all_C:\n",
    "\t\n",
    "\tk_accuracy = []\n",
    "\tfor i in range(0, k):\n",
    "\t\tvalidation_idx = idx_k[i]\n",
    "\t\ttraining_idx = list(set(validation_idx)^set(idx))\n",
    "\t\ttraining_data = all_training_data[training_idx]\n",
    "\t\ttraining_labels = all_training_labels[training_idx]\n",
    "\t\tvalidation_data = all_training_data[validation_idx]\n",
    "\t\tvalidation_labels = all_training_labels[validation_idx]\n",
    "\t\tclf = svm.LinearSVC(C=C)\n",
    "\t\tclf.fit(training_data, training_labels)\n",
    "\t\ttraining_predict = clf.predict(training_data)\n",
    "\t\tvalidation_predict = clf.predict(validation_data)\n",
    "\t\tvalidation_match = np.equal(validation_labels, validation_predict)\n",
    "        validation_accuracy = sum(validation_match) / len(validation_match)\n",
    "\t\t# print(validation_accuracy)\n",
    "\t\tk_accuracy.append(validation_accuracy)\n",
    "\tprint(C, ': ', sum(k_accuracy)/float(k))\n",
    "\tall_validation_accuracy.append(sum(k_accuracy)/float(k))\n",
    "print(all_validation_accuracy)\n",
    "\n",
    "max_idx = all_validation_accuracy.index(max(all_validation_accuracy))\n",
    "print('Max***', all_C[max_idx], ': ', max(all_validation_accuracy))\n",
    "\n",
    "plt.plot(all_C, all_validation_accuracy, label='Validation data accuracy', marker='x')\n",
    "plt.legend(loc='lower right', frameon=False)\n",
    "plt.show()"
   ]
  },
  {
   "cell_type": "markdown",
   "metadata": {},
   "source": [
    "Note:\n",
    "C~=50 for SPAM with bag-of-words features"
   ]
  }
 ],
 "metadata": {
  "anaconda-cloud": {},
  "kernelspec": {
   "display_name": "Python [conda env:dsb2017]",
   "language": "python",
   "name": "conda-env-dsb2017-py"
  },
  "language_info": {
   "codemirror_mode": {
    "name": "ipython",
    "version": 3
   },
   "file_extension": ".py",
   "mimetype": "text/x-python",
   "name": "python",
   "nbconvert_exporter": "python",
   "pygments_lexer": "ipython3",
   "version": "3.5.2"
  }
 },
 "nbformat": 4,
 "nbformat_minor": 1
}
